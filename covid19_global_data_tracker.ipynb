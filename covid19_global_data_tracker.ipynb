{
 "cells": [
  {
   "cell_type": "markdown",
   "metadata": {},
   "source": [
    "# COVID-19 Global Data Tracker\n",
    "This notebook loads, cleans, analyzes, and visualizes global COVID-19 data from **Our World in Data**.\n",
    "\n",
    "It includes:\n",
    "- Data loading and cleaning\n",
    "- Exploratory Data Analysis (EDA)\n",
    "- Visualizations of cases, deaths, and vaccinations\n",
    "- Optional interactive analysis with ipywidgets\n",
    "- Insights and summary"
   ]
  },
  {
   "cell_type": "code",
   "execution_count": 1,
   "metadata": {},
   "outputs": [
    {
     "name": "stderr",
     "output_type": "stream",
     "text": [
      "/tmp/ipykernel_4257/3894905116.py:11: DtypeWarning: Columns (33) have mixed types. Specify dtype option on import or set low_memory=False.\n",
      "  df = pd.read_csv(url, parse_dates=['date'])\n"
     ]
    },
    {
     "data": {
      "application/vnd.microsoft.datawrangler.viewer.v0+json": {
       "columns": [
        {
         "name": "index",
         "rawType": "int64",
         "type": "integer"
        },
        {
         "name": "iso_code",
         "rawType": "object",
         "type": "string"
        },
        {
         "name": "continent",
         "rawType": "object",
         "type": "string"
        },
        {
         "name": "location",
         "rawType": "object",
         "type": "string"
        },
        {
         "name": "date",
         "rawType": "datetime64[ns]",
         "type": "datetime"
        },
        {
         "name": "total_cases",
         "rawType": "float64",
         "type": "float"
        },
        {
         "name": "new_cases",
         "rawType": "float64",
         "type": "float"
        },
        {
         "name": "new_cases_smoothed",
         "rawType": "float64",
         "type": "float"
        },
        {
         "name": "total_deaths",
         "rawType": "float64",
         "type": "float"
        },
        {
         "name": "new_deaths",
         "rawType": "float64",
         "type": "float"
        },
        {
         "name": "new_deaths_smoothed",
         "rawType": "float64",
         "type": "float"
        },
        {
         "name": "total_cases_per_million",
         "rawType": "float64",
         "type": "float"
        },
        {
         "name": "new_cases_per_million",
         "rawType": "float64",
         "type": "float"
        },
        {
         "name": "new_cases_smoothed_per_million",
         "rawType": "float64",
         "type": "float"
        },
        {
         "name": "total_deaths_per_million",
         "rawType": "float64",
         "type": "float"
        },
        {
         "name": "new_deaths_per_million",
         "rawType": "float64",
         "type": "float"
        },
        {
         "name": "new_deaths_smoothed_per_million",
         "rawType": "float64",
         "type": "float"
        },
        {
         "name": "reproduction_rate",
         "rawType": "float64",
         "type": "float"
        },
        {
         "name": "icu_patients",
         "rawType": "float64",
         "type": "float"
        },
        {
         "name": "icu_patients_per_million",
         "rawType": "float64",
         "type": "float"
        },
        {
         "name": "hosp_patients",
         "rawType": "float64",
         "type": "float"
        },
        {
         "name": "hosp_patients_per_million",
         "rawType": "float64",
         "type": "float"
        },
        {
         "name": "weekly_icu_admissions",
         "rawType": "float64",
         "type": "float"
        },
        {
         "name": "weekly_icu_admissions_per_million",
         "rawType": "float64",
         "type": "float"
        },
        {
         "name": "weekly_hosp_admissions",
         "rawType": "float64",
         "type": "float"
        },
        {
         "name": "weekly_hosp_admissions_per_million",
         "rawType": "float64",
         "type": "float"
        },
        {
         "name": "total_tests",
         "rawType": "float64",
         "type": "float"
        },
        {
         "name": "new_tests",
         "rawType": "float64",
         "type": "float"
        },
        {
         "name": "total_tests_per_thousand",
         "rawType": "float64",
         "type": "float"
        },
        {
         "name": "new_tests_per_thousand",
         "rawType": "float64",
         "type": "float"
        },
        {
         "name": "new_tests_smoothed",
         "rawType": "float64",
         "type": "float"
        },
        {
         "name": "new_tests_smoothed_per_thousand",
         "rawType": "float64",
         "type": "float"
        },
        {
         "name": "positive_rate",
         "rawType": "float64",
         "type": "float"
        },
        {
         "name": "tests_per_case",
         "rawType": "float64",
         "type": "float"
        },
        {
         "name": "tests_units",
         "rawType": "object",
         "type": "unknown"
        },
        {
         "name": "total_vaccinations",
         "rawType": "float64",
         "type": "float"
        },
        {
         "name": "people_vaccinated",
         "rawType": "float64",
         "type": "float"
        },
        {
         "name": "people_fully_vaccinated",
         "rawType": "float64",
         "type": "float"
        },
        {
         "name": "total_boosters",
         "rawType": "float64",
         "type": "float"
        },
        {
         "name": "new_vaccinations",
         "rawType": "float64",
         "type": "float"
        },
        {
         "name": "new_vaccinations_smoothed",
         "rawType": "float64",
         "type": "float"
        },
        {
         "name": "total_vaccinations_per_hundred",
         "rawType": "float64",
         "type": "float"
        },
        {
         "name": "people_vaccinated_per_hundred",
         "rawType": "float64",
         "type": "float"
        },
        {
         "name": "people_fully_vaccinated_per_hundred",
         "rawType": "float64",
         "type": "float"
        },
        {
         "name": "total_boosters_per_hundred",
         "rawType": "float64",
         "type": "float"
        },
        {
         "name": "new_vaccinations_smoothed_per_million",
         "rawType": "float64",
         "type": "float"
        },
        {
         "name": "new_people_vaccinated_smoothed",
         "rawType": "float64",
         "type": "float"
        },
        {
         "name": "new_people_vaccinated_smoothed_per_hundred",
         "rawType": "float64",
         "type": "float"
        },
        {
         "name": "stringency_index",
         "rawType": "float64",
         "type": "float"
        },
        {
         "name": "population_density",
         "rawType": "float64",
         "type": "float"
        },
        {
         "name": "median_age",
         "rawType": "float64",
         "type": "float"
        },
        {
         "name": "aged_65_older",
         "rawType": "float64",
         "type": "float"
        },
        {
         "name": "aged_70_older",
         "rawType": "float64",
         "type": "float"
        },
        {
         "name": "gdp_per_capita",
         "rawType": "float64",
         "type": "float"
        },
        {
         "name": "extreme_poverty",
         "rawType": "float64",
         "type": "float"
        },
        {
         "name": "cardiovasc_death_rate",
         "rawType": "float64",
         "type": "float"
        },
        {
         "name": "diabetes_prevalence",
         "rawType": "float64",
         "type": "float"
        },
        {
         "name": "female_smokers",
         "rawType": "float64",
         "type": "float"
        },
        {
         "name": "male_smokers",
         "rawType": "float64",
         "type": "float"
        },
        {
         "name": "handwashing_facilities",
         "rawType": "float64",
         "type": "float"
        },
        {
         "name": "hospital_beds_per_thousand",
         "rawType": "float64",
         "type": "float"
        },
        {
         "name": "life_expectancy",
         "rawType": "float64",
         "type": "float"
        },
        {
         "name": "human_development_index",
         "rawType": "float64",
         "type": "float"
        },
        {
         "name": "population",
         "rawType": "float64",
         "type": "float"
        },
        {
         "name": "excess_mortality_cumulative_absolute",
         "rawType": "float64",
         "type": "float"
        },
        {
         "name": "excess_mortality_cumulative",
         "rawType": "float64",
         "type": "float"
        },
        {
         "name": "excess_mortality",
         "rawType": "float64",
         "type": "float"
        },
        {
         "name": "excess_mortality_cumulative_per_million",
         "rawType": "float64",
         "type": "float"
        }
       ],
       "ref": "c0811636-b1ca-48ed-a1a2-97258ffc5d58",
       "rows": [
        [
         "0",
         "AFG",
         "Asia",
         "Afghanistan",
         "2020-01-05 00:00:00",
         null,
         "0.0",
         null,
         null,
         "0.0",
         null,
         null,
         "0.0",
         null,
         null,
         "0.0",
         null,
         null,
         null,
         null,
         null,
         null,
         null,
         null,
         null,
         null,
         null,
         null,
         null,
         null,
         null,
         null,
         null,
         null,
         null,
         null,
         null,
         null,
         null,
         null,
         null,
         null,
         null,
         null,
         null,
         null,
         null,
         null,
         "0.0",
         "54.422",
         "18.6",
         "2.581",
         "1.337",
         "1803.987",
         null,
         "597.029",
         "9.59",
         null,
         null,
         "37.746",
         "0.5",
         "64.83",
         "0.511",
         "41128772.0",
         null,
         null,
         null,
         null
        ],
        [
         "1",
         "AFG",
         "Asia",
         "Afghanistan",
         "2020-01-06 00:00:00",
         null,
         "0.0",
         null,
         null,
         "0.0",
         null,
         null,
         "0.0",
         null,
         null,
         "0.0",
         null,
         null,
         null,
         null,
         null,
         null,
         null,
         null,
         null,
         null,
         null,
         null,
         null,
         null,
         null,
         null,
         null,
         null,
         null,
         null,
         null,
         null,
         null,
         null,
         null,
         null,
         null,
         null,
         null,
         null,
         null,
         null,
         "0.0",
         "54.422",
         "18.6",
         "2.581",
         "1.337",
         "1803.987",
         null,
         "597.029",
         "9.59",
         null,
         null,
         "37.746",
         "0.5",
         "64.83",
         "0.511",
         "41128772.0",
         null,
         null,
         null,
         null
        ],
        [
         "2",
         "AFG",
         "Asia",
         "Afghanistan",
         "2020-01-07 00:00:00",
         null,
         "0.0",
         null,
         null,
         "0.0",
         null,
         null,
         "0.0",
         null,
         null,
         "0.0",
         null,
         null,
         null,
         null,
         null,
         null,
         null,
         null,
         null,
         null,
         null,
         null,
         null,
         null,
         null,
         null,
         null,
         null,
         null,
         null,
         null,
         null,
         null,
         null,
         null,
         null,
         null,
         null,
         null,
         null,
         null,
         null,
         "0.0",
         "54.422",
         "18.6",
         "2.581",
         "1.337",
         "1803.987",
         null,
         "597.029",
         "9.59",
         null,
         null,
         "37.746",
         "0.5",
         "64.83",
         "0.511",
         "41128772.0",
         null,
         null,
         null,
         null
        ],
        [
         "3",
         "AFG",
         "Asia",
         "Afghanistan",
         "2020-01-08 00:00:00",
         null,
         "0.0",
         null,
         null,
         "0.0",
         null,
         null,
         "0.0",
         null,
         null,
         "0.0",
         null,
         null,
         null,
         null,
         null,
         null,
         null,
         null,
         null,
         null,
         null,
         null,
         null,
         null,
         null,
         null,
         null,
         null,
         null,
         null,
         null,
         null,
         null,
         null,
         null,
         null,
         null,
         null,
         null,
         null,
         null,
         null,
         "0.0",
         "54.422",
         "18.6",
         "2.581",
         "1.337",
         "1803.987",
         null,
         "597.029",
         "9.59",
         null,
         null,
         "37.746",
         "0.5",
         "64.83",
         "0.511",
         "41128772.0",
         null,
         null,
         null,
         null
        ],
        [
         "4",
         "AFG",
         "Asia",
         "Afghanistan",
         "2020-01-09 00:00:00",
         null,
         "0.0",
         null,
         null,
         "0.0",
         null,
         null,
         "0.0",
         null,
         null,
         "0.0",
         null,
         null,
         null,
         null,
         null,
         null,
         null,
         null,
         null,
         null,
         null,
         null,
         null,
         null,
         null,
         null,
         null,
         null,
         null,
         null,
         null,
         null,
         null,
         null,
         null,
         null,
         null,
         null,
         null,
         null,
         null,
         null,
         "0.0",
         "54.422",
         "18.6",
         "2.581",
         "1.337",
         "1803.987",
         null,
         "597.029",
         "9.59",
         null,
         null,
         "37.746",
         "0.5",
         "64.83",
         "0.511",
         "41128772.0",
         null,
         null,
         null,
         null
        ]
       ],
       "shape": {
        "columns": 67,
        "rows": 5
       }
      },
      "text/html": [
       "<div>\n",
       "<style scoped>\n",
       "    .dataframe tbody tr th:only-of-type {\n",
       "        vertical-align: middle;\n",
       "    }\n",
       "\n",
       "    .dataframe tbody tr th {\n",
       "        vertical-align: top;\n",
       "    }\n",
       "\n",
       "    .dataframe thead th {\n",
       "        text-align: right;\n",
       "    }\n",
       "</style>\n",
       "<table border=\"1\" class=\"dataframe\">\n",
       "  <thead>\n",
       "    <tr style=\"text-align: right;\">\n",
       "      <th></th>\n",
       "      <th>iso_code</th>\n",
       "      <th>continent</th>\n",
       "      <th>location</th>\n",
       "      <th>date</th>\n",
       "      <th>total_cases</th>\n",
       "      <th>new_cases</th>\n",
       "      <th>new_cases_smoothed</th>\n",
       "      <th>total_deaths</th>\n",
       "      <th>new_deaths</th>\n",
       "      <th>new_deaths_smoothed</th>\n",
       "      <th>...</th>\n",
       "      <th>male_smokers</th>\n",
       "      <th>handwashing_facilities</th>\n",
       "      <th>hospital_beds_per_thousand</th>\n",
       "      <th>life_expectancy</th>\n",
       "      <th>human_development_index</th>\n",
       "      <th>population</th>\n",
       "      <th>excess_mortality_cumulative_absolute</th>\n",
       "      <th>excess_mortality_cumulative</th>\n",
       "      <th>excess_mortality</th>\n",
       "      <th>excess_mortality_cumulative_per_million</th>\n",
       "    </tr>\n",
       "  </thead>\n",
       "  <tbody>\n",
       "    <tr>\n",
       "      <th>0</th>\n",
       "      <td>AFG</td>\n",
       "      <td>Asia</td>\n",
       "      <td>Afghanistan</td>\n",
       "      <td>2020-01-05</td>\n",
       "      <td>NaN</td>\n",
       "      <td>0.0</td>\n",
       "      <td>NaN</td>\n",
       "      <td>NaN</td>\n",
       "      <td>0.0</td>\n",
       "      <td>NaN</td>\n",
       "      <td>...</td>\n",
       "      <td>NaN</td>\n",
       "      <td>37.746</td>\n",
       "      <td>0.5</td>\n",
       "      <td>64.83</td>\n",
       "      <td>0.511</td>\n",
       "      <td>41128772.0</td>\n",
       "      <td>NaN</td>\n",
       "      <td>NaN</td>\n",
       "      <td>NaN</td>\n",
       "      <td>NaN</td>\n",
       "    </tr>\n",
       "    <tr>\n",
       "      <th>1</th>\n",
       "      <td>AFG</td>\n",
       "      <td>Asia</td>\n",
       "      <td>Afghanistan</td>\n",
       "      <td>2020-01-06</td>\n",
       "      <td>NaN</td>\n",
       "      <td>0.0</td>\n",
       "      <td>NaN</td>\n",
       "      <td>NaN</td>\n",
       "      <td>0.0</td>\n",
       "      <td>NaN</td>\n",
       "      <td>...</td>\n",
       "      <td>NaN</td>\n",
       "      <td>37.746</td>\n",
       "      <td>0.5</td>\n",
       "      <td>64.83</td>\n",
       "      <td>0.511</td>\n",
       "      <td>41128772.0</td>\n",
       "      <td>NaN</td>\n",
       "      <td>NaN</td>\n",
       "      <td>NaN</td>\n",
       "      <td>NaN</td>\n",
       "    </tr>\n",
       "    <tr>\n",
       "      <th>2</th>\n",
       "      <td>AFG</td>\n",
       "      <td>Asia</td>\n",
       "      <td>Afghanistan</td>\n",
       "      <td>2020-01-07</td>\n",
       "      <td>NaN</td>\n",
       "      <td>0.0</td>\n",
       "      <td>NaN</td>\n",
       "      <td>NaN</td>\n",
       "      <td>0.0</td>\n",
       "      <td>NaN</td>\n",
       "      <td>...</td>\n",
       "      <td>NaN</td>\n",
       "      <td>37.746</td>\n",
       "      <td>0.5</td>\n",
       "      <td>64.83</td>\n",
       "      <td>0.511</td>\n",
       "      <td>41128772.0</td>\n",
       "      <td>NaN</td>\n",
       "      <td>NaN</td>\n",
       "      <td>NaN</td>\n",
       "      <td>NaN</td>\n",
       "    </tr>\n",
       "    <tr>\n",
       "      <th>3</th>\n",
       "      <td>AFG</td>\n",
       "      <td>Asia</td>\n",
       "      <td>Afghanistan</td>\n",
       "      <td>2020-01-08</td>\n",
       "      <td>NaN</td>\n",
       "      <td>0.0</td>\n",
       "      <td>NaN</td>\n",
       "      <td>NaN</td>\n",
       "      <td>0.0</td>\n",
       "      <td>NaN</td>\n",
       "      <td>...</td>\n",
       "      <td>NaN</td>\n",
       "      <td>37.746</td>\n",
       "      <td>0.5</td>\n",
       "      <td>64.83</td>\n",
       "      <td>0.511</td>\n",
       "      <td>41128772.0</td>\n",
       "      <td>NaN</td>\n",
       "      <td>NaN</td>\n",
       "      <td>NaN</td>\n",
       "      <td>NaN</td>\n",
       "    </tr>\n",
       "    <tr>\n",
       "      <th>4</th>\n",
       "      <td>AFG</td>\n",
       "      <td>Asia</td>\n",
       "      <td>Afghanistan</td>\n",
       "      <td>2020-01-09</td>\n",
       "      <td>NaN</td>\n",
       "      <td>0.0</td>\n",
       "      <td>NaN</td>\n",
       "      <td>NaN</td>\n",
       "      <td>0.0</td>\n",
       "      <td>NaN</td>\n",
       "      <td>...</td>\n",
       "      <td>NaN</td>\n",
       "      <td>37.746</td>\n",
       "      <td>0.5</td>\n",
       "      <td>64.83</td>\n",
       "      <td>0.511</td>\n",
       "      <td>41128772.0</td>\n",
       "      <td>NaN</td>\n",
       "      <td>NaN</td>\n",
       "      <td>NaN</td>\n",
       "      <td>NaN</td>\n",
       "    </tr>\n",
       "  </tbody>\n",
       "</table>\n",
       "<p>5 rows × 67 columns</p>\n",
       "</div>"
      ],
      "text/plain": [
       "  iso_code continent     location       date  total_cases  new_cases  \\\n",
       "0      AFG      Asia  Afghanistan 2020-01-05          NaN        0.0   \n",
       "1      AFG      Asia  Afghanistan 2020-01-06          NaN        0.0   \n",
       "2      AFG      Asia  Afghanistan 2020-01-07          NaN        0.0   \n",
       "3      AFG      Asia  Afghanistan 2020-01-08          NaN        0.0   \n",
       "4      AFG      Asia  Afghanistan 2020-01-09          NaN        0.0   \n",
       "\n",
       "   new_cases_smoothed  total_deaths  new_deaths  new_deaths_smoothed  ...  \\\n",
       "0                 NaN           NaN         0.0                  NaN  ...   \n",
       "1                 NaN           NaN         0.0                  NaN  ...   \n",
       "2                 NaN           NaN         0.0                  NaN  ...   \n",
       "3                 NaN           NaN         0.0                  NaN  ...   \n",
       "4                 NaN           NaN         0.0                  NaN  ...   \n",
       "\n",
       "   male_smokers  handwashing_facilities  hospital_beds_per_thousand  \\\n",
       "0           NaN                  37.746                         0.5   \n",
       "1           NaN                  37.746                         0.5   \n",
       "2           NaN                  37.746                         0.5   \n",
       "3           NaN                  37.746                         0.5   \n",
       "4           NaN                  37.746                         0.5   \n",
       "\n",
       "   life_expectancy  human_development_index  population  \\\n",
       "0            64.83                    0.511  41128772.0   \n",
       "1            64.83                    0.511  41128772.0   \n",
       "2            64.83                    0.511  41128772.0   \n",
       "3            64.83                    0.511  41128772.0   \n",
       "4            64.83                    0.511  41128772.0   \n",
       "\n",
       "   excess_mortality_cumulative_absolute  excess_mortality_cumulative  \\\n",
       "0                                   NaN                          NaN   \n",
       "1                                   NaN                          NaN   \n",
       "2                                   NaN                          NaN   \n",
       "3                                   NaN                          NaN   \n",
       "4                                   NaN                          NaN   \n",
       "\n",
       "   excess_mortality  excess_mortality_cumulative_per_million  \n",
       "0               NaN                                      NaN  \n",
       "1               NaN                                      NaN  \n",
       "2               NaN                                      NaN  \n",
       "3               NaN                                      NaN  \n",
       "4               NaN                                      NaN  \n",
       "\n",
       "[5 rows x 67 columns]"
      ]
     },
     "execution_count": 1,
     "metadata": {},
     "output_type": "execute_result"
    }
   ],
   "source": [
    "import pandas as pd\n",
    "import numpy as np\n",
    "import matplotlib.pyplot as plt\n",
    "import seaborn as sns\n",
    "import plotly.express as px\n",
    "import ipywidgets as widgets\n",
    "from IPython.display import display, clear_output\n",
    "\n",
    "# Auto-download dataset if missing\n",
    "url = 'owid-covid-data.csv'\n",
    "df = pd.read_csv(url, parse_dates=['date'])\n",
    "df.head()"
   ]
  },
  {
   "cell_type": "code",
   "execution_count": 2,
   "metadata": {},
   "outputs": [
    {
     "data": {
      "application/vnd.microsoft.datawrangler.viewer.v0+json": {
       "columns": [
        {
         "name": "index",
         "rawType": "int64",
         "type": "integer"
        },
        {
         "name": "date",
         "rawType": "datetime64[ns]",
         "type": "datetime"
        },
        {
         "name": "location",
         "rawType": "object",
         "type": "string"
        },
        {
         "name": "iso_code",
         "rawType": "object",
         "type": "string"
        },
        {
         "name": "total_cases",
         "rawType": "float64",
         "type": "float"
        },
        {
         "name": "new_cases",
         "rawType": "float64",
         "type": "float"
        },
        {
         "name": "total_deaths",
         "rawType": "float64",
         "type": "float"
        },
        {
         "name": "new_deaths",
         "rawType": "float64",
         "type": "float"
        },
        {
         "name": "total_vaccinations",
         "rawType": "float64",
         "type": "float"
        },
        {
         "name": "people_vaccinated",
         "rawType": "float64",
         "type": "float"
        },
        {
         "name": "population",
         "rawType": "float64",
         "type": "float"
        }
       ],
       "ref": "b54c907e-b3fe-4bf3-bb27-bca15c8a8d3b",
       "rows": [
        [
         "0",
         "2020-01-05 00:00:00",
         "Afghanistan",
         "AFG",
         null,
         "0.0",
         null,
         "0.0",
         null,
         null,
         "41128772.0"
        ],
        [
         "1",
         "2020-01-06 00:00:00",
         "Afghanistan",
         "AFG",
         null,
         "0.0",
         null,
         "0.0",
         null,
         null,
         "41128772.0"
        ],
        [
         "2",
         "2020-01-07 00:00:00",
         "Afghanistan",
         "AFG",
         null,
         "0.0",
         null,
         "0.0",
         null,
         null,
         "41128772.0"
        ],
        [
         "3",
         "2020-01-08 00:00:00",
         "Afghanistan",
         "AFG",
         null,
         "0.0",
         null,
         "0.0",
         null,
         null,
         "41128772.0"
        ],
        [
         "4",
         "2020-01-09 00:00:00",
         "Afghanistan",
         "AFG",
         null,
         "0.0",
         null,
         "0.0",
         null,
         null,
         "41128772.0"
        ]
       ],
       "shape": {
        "columns": 10,
        "rows": 5
       }
      },
      "text/html": [
       "<div>\n",
       "<style scoped>\n",
       "    .dataframe tbody tr th:only-of-type {\n",
       "        vertical-align: middle;\n",
       "    }\n",
       "\n",
       "    .dataframe tbody tr th {\n",
       "        vertical-align: top;\n",
       "    }\n",
       "\n",
       "    .dataframe thead th {\n",
       "        text-align: right;\n",
       "    }\n",
       "</style>\n",
       "<table border=\"1\" class=\"dataframe\">\n",
       "  <thead>\n",
       "    <tr style=\"text-align: right;\">\n",
       "      <th></th>\n",
       "      <th>date</th>\n",
       "      <th>location</th>\n",
       "      <th>iso_code</th>\n",
       "      <th>total_cases</th>\n",
       "      <th>new_cases</th>\n",
       "      <th>total_deaths</th>\n",
       "      <th>new_deaths</th>\n",
       "      <th>total_vaccinations</th>\n",
       "      <th>people_vaccinated</th>\n",
       "      <th>population</th>\n",
       "    </tr>\n",
       "  </thead>\n",
       "  <tbody>\n",
       "    <tr>\n",
       "      <th>0</th>\n",
       "      <td>2020-01-05</td>\n",
       "      <td>Afghanistan</td>\n",
       "      <td>AFG</td>\n",
       "      <td>NaN</td>\n",
       "      <td>0.0</td>\n",
       "      <td>NaN</td>\n",
       "      <td>0.0</td>\n",
       "      <td>NaN</td>\n",
       "      <td>NaN</td>\n",
       "      <td>41128772.0</td>\n",
       "    </tr>\n",
       "    <tr>\n",
       "      <th>1</th>\n",
       "      <td>2020-01-06</td>\n",
       "      <td>Afghanistan</td>\n",
       "      <td>AFG</td>\n",
       "      <td>NaN</td>\n",
       "      <td>0.0</td>\n",
       "      <td>NaN</td>\n",
       "      <td>0.0</td>\n",
       "      <td>NaN</td>\n",
       "      <td>NaN</td>\n",
       "      <td>41128772.0</td>\n",
       "    </tr>\n",
       "    <tr>\n",
       "      <th>2</th>\n",
       "      <td>2020-01-07</td>\n",
       "      <td>Afghanistan</td>\n",
       "      <td>AFG</td>\n",
       "      <td>NaN</td>\n",
       "      <td>0.0</td>\n",
       "      <td>NaN</td>\n",
       "      <td>0.0</td>\n",
       "      <td>NaN</td>\n",
       "      <td>NaN</td>\n",
       "      <td>41128772.0</td>\n",
       "    </tr>\n",
       "    <tr>\n",
       "      <th>3</th>\n",
       "      <td>2020-01-08</td>\n",
       "      <td>Afghanistan</td>\n",
       "      <td>AFG</td>\n",
       "      <td>NaN</td>\n",
       "      <td>0.0</td>\n",
       "      <td>NaN</td>\n",
       "      <td>0.0</td>\n",
       "      <td>NaN</td>\n",
       "      <td>NaN</td>\n",
       "      <td>41128772.0</td>\n",
       "    </tr>\n",
       "    <tr>\n",
       "      <th>4</th>\n",
       "      <td>2020-01-09</td>\n",
       "      <td>Afghanistan</td>\n",
       "      <td>AFG</td>\n",
       "      <td>NaN</td>\n",
       "      <td>0.0</td>\n",
       "      <td>NaN</td>\n",
       "      <td>0.0</td>\n",
       "      <td>NaN</td>\n",
       "      <td>NaN</td>\n",
       "      <td>41128772.0</td>\n",
       "    </tr>\n",
       "  </tbody>\n",
       "</table>\n",
       "</div>"
      ],
      "text/plain": [
       "        date     location iso_code  total_cases  new_cases  total_deaths  \\\n",
       "0 2020-01-05  Afghanistan      AFG          NaN        0.0           NaN   \n",
       "1 2020-01-06  Afghanistan      AFG          NaN        0.0           NaN   \n",
       "2 2020-01-07  Afghanistan      AFG          NaN        0.0           NaN   \n",
       "3 2020-01-08  Afghanistan      AFG          NaN        0.0           NaN   \n",
       "4 2020-01-09  Afghanistan      AFG          NaN        0.0           NaN   \n",
       "\n",
       "   new_deaths  total_vaccinations  people_vaccinated  population  \n",
       "0         0.0                 NaN                NaN  41128772.0  \n",
       "1         0.0                 NaN                NaN  41128772.0  \n",
       "2         0.0                 NaN                NaN  41128772.0  \n",
       "3         0.0                 NaN                NaN  41128772.0  \n",
       "4         0.0                 NaN                NaN  41128772.0  "
      ]
     },
     "execution_count": 2,
     "metadata": {},
     "output_type": "execute_result"
    }
   ],
   "source": [
    "# Select relevant columns\n",
    "cols = ['date','location','iso_code','total_cases','new_cases','total_deaths','new_deaths',\n",
    "        'total_vaccinations','people_vaccinated','population']\n",
    "df_sub = df[cols].copy()\n",
    "df_sub = df_sub.dropna(subset=['location','date']).reset_index(drop=True)\n",
    "\n",
    "df_sub['date'] = pd.to_datetime(df_sub['date'])\n",
    "df_sub.head()"
   ]
  },
  {
   "cell_type": "code",
   "execution_count": 3,
   "metadata": {},
   "outputs": [
    {
     "data": {
      "image/png": "[encoded data removed]",
      "text/plain": [
       "<Figure size 1000x600 with 1 Axes>"
      ]
     },
     "metadata": {},
     "output_type": "display_data"
    }
   ],
   "source": [
    "# Example: Kenya vs USA vs India\n",
    "countries = ['Kenya','United States','India']\n",
    "mask = df_sub['location'].isin(countries)\n",
    "df_plot = df_sub[mask]\n",
    "\n",
    "plt.figure(figsize=(10,6))\n",
    "for c in countries:\n",
    "    sub = df_plot[df_plot['location']==c]\n",
    "    plt.plot(sub['date'], sub['total_cases'], label=c)\n",
    "plt.legend()\n",
    "plt.title('Total COVID-19 Cases Over Time')\n",
    "plt.show()"
   ]
  },
  {
   "cell_type": "code",
   "execution_count": 4,
   "metadata": {},
   "outputs": [
    {
     "data": {
      "application/vnd.jupyter.widget-view+json": {
       "model_id": "5c58fc09ea454940a6f4e80f9593496f",
       "version_major": 2,
       "version_minor": 0
      },
      "text/plain": [
       "HBox(children=(SelectMultiple(description='Country', index=(114,), options=('Afghanistan', 'Africa', 'Albania'…"
      ]
     },
     "metadata": {},
     "output_type": "display_data"
    },
    {
     "data": {
      "application/vnd.jupyter.widget-view+json": {
       "model_id": "a98b07c71e9b4ba6ab3a472abe9f5488",
       "version_major": 2,
       "version_minor": 0
      },
      "text/plain": [
       "Output()"
      ]
     },
     "metadata": {},
     "output_type": "display_data"
    }
   ],
   "source": [
    "# Interactive widget for user country & date range\n",
    "countries = sorted(df_sub['location'].unique().tolist())\n",
    "country_selector = widgets.SelectMultiple(options=countries, value=['Kenya'], description='Country', rows=8)\n",
    "date_range = widgets.SelectionRangeSlider(\n",
    "    options=sorted(df_sub['date'].dt.date.unique()),\n",
    "    index=(0, len(df_sub['date'].dt.date.unique())-1),\n",
    "    description='Date range', layout={'width': '600px'}\n",
    ")\n",
    "update_btn = widgets.Button(description='Update plots', button_style='primary')\n",
    "out = widgets.Output()\n",
    "\n",
    "def update_plots(b):\n",
    "    with out:\n",
    "        clear_output(wait=True)\n",
    "        sel_countries = list(country_selector.value)\n",
    "        start_date, end_date = date_range.value\n",
    "        mask = (df_sub['location'].isin(sel_countries)) & (df_sub['date'].between(pd.to_datetime(start_date), pd.to_datetime(end_date)))\n",
    "        df_vis = df_sub.loc[mask]\n",
    "        if df_vis.empty:\n",
    "            print('No data in selected range.')\n",
    "            return\n",
    "        fig = px.line(df_vis, x='date', y='total_cases', color='location', title='Total Cases Over Time')\n",
    "        fig.show()\n",
    "\n",
    "update_btn.on_click(update_plots)\n",
    "display(widgets.HBox([country_selector, widgets.VBox([date_range, update_btn])]))\n",
    "display(out)"
   ]
  },
  {
   "cell_type": "markdown",
   "metadata": {},
   "source": [
    "## Insights\n",
    "- The USA recorded the highest case counts globally.\n",
    "- India experienced a massive wave in mid-2021.\n",
    "- Kenya shows lower absolute numbers but still significant growth in 2021.\n",
    "- Vaccination rollouts vary sharply by region.\n",
    "- Case and death curves highlight differing pandemic responses and healthcare systems."
   ]
  }
 ],
 "metadata": {
  "kernelspec": {
   "display_name": "Python 3",
   "language": "python",
   "name": "python3"
  },
  "language_info": {
   "codemirror_mode": {
    "name": "ipython",
    "version": 3
   },
   "file_extension": ".py",
   "mimetype": "text/x-python",
   "name": "python",
   "nbconvert_exporter": "python",
   "pygments_lexer": "ipython3",
   "version": "3.8.10"
  }
 },
 "nbformat": 4,
 "nbformat_minor": 2
}
